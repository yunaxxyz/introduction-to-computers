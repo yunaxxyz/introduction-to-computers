{
  "nbformat": 4,
  "nbformat_minor": 0,
  "metadata": {
    "colab": {
      "name": "0511.ipynb",
      "provenance": [],
      "authorship_tag": "ABX9TyPQgSDpwTKJjo8H2WZSkC0r",
      "include_colab_link": true
    },
    "kernelspec": {
      "name": "python3",
      "display_name": "Python 3"
    },
    "language_info": {
      "name": "python"
    }
  },
  "cells": [
    {
      "cell_type": "markdown",
      "metadata": {
        "id": "view-in-github",
        "colab_type": "text"
      },
      "source": [
        "<a href=\"https://colab.research.google.com/github/yunaxxyz/introduction-to-computers/blob/main/0511.ipynb\" target=\"_parent\"><img src=\"https://colab.research.google.com/assets/colab-badge.svg\" alt=\"Open In Colab\"/></a>"
      ]
    },
    {
      "cell_type": "code",
      "source": [
        "print('else')"
      ],
      "metadata": {
        "colab": {
          "base_uri": "https://localhost:8080/"
        },
        "id": "JOW3bKcGklUB",
        "outputId": "b8170016-9675-4150-99e5-882e1734a3e6"
      },
      "execution_count": 8,
      "outputs": [
        {
          "output_type": "stream",
          "name": "stdout",
          "text": [
            "else\n"
          ]
        }
      ]
    },
    {
      "cell_type": "code",
      "execution_count": 22,
      "metadata": {
        "colab": {
          "base_uri": "https://localhost:8080/"
        },
        "id": "ThVRxtyvhFpW",
        "outputId": "9c454589-ed51-4f0a-a4b9-24c98cde8cde"
      },
      "outputs": [
        {
          "output_type": "stream",
          "name": "stdout",
          "text": [
            "請輸入你的體溫37\n",
            "體溫略高!\n"
          ]
        }
      ],
      "source": [
        "temp = float(input(\"請輸入你的體溫\"))\n",
        "if temp >= 37.5:\n",
        "  print(\"體溫過高!\")\n",
        "elif temp >= 37 and temp <= 37.4:\n",
        "  print(\"體溫略高!\")\n",
        "elif temp >= 34 and temp <= 36.9:\n",
        "  print(\"體溫正常!\")\n",
        "else:\n",
        "  print(\"體溫異常，請重新量測!\")"
      ]
    },
    {
      "cell_type": "code",
      "source": [
        "money = int(input(\"請輸入金額\"))\n",
        "if (money >= 10000):\n",
        "  if (money >= 100000):\n",
        "    print(\"八折\",money * 0.8, end = \"元\\n\")\n",
        "  elif (money >= 50000):\n",
        "    print(\"八五折\",money * 0.85, end = \"元\\n\")\n",
        "  elif (money >= 30000):\n",
        "    print(\"九折\",money * 0.9, end = \"元\\n\")\n",
        "  else:\n",
        "    print(\"九五折\",money * 0.95, end = \"元\\n\")\n",
        "else:\n",
        "  print(' 沒打折', money, end = \"元\\n\")"
      ],
      "metadata": {
        "colab": {
          "base_uri": "https://localhost:8080/"
        },
        "id": "lg9_zlgsk4Vp",
        "outputId": "f5995612-4a58-499b-8fb7-801c3c351183"
      },
      "execution_count": 14,
      "outputs": [
        {
          "output_type": "stream",
          "name": "stdout",
          "text": [
            "請輸入金額10000\n",
            "九五折 9500.0元\n"
          ]
        }
      ]
    },
    {
      "cell_type": "code",
      "source": [
        "score = int(input(\"請輸入成績\"))\n",
        "if (score >= 90):\n",
        "  print(\"A\")\n",
        "elif (score >= 80 and score <= 89):\n",
        "  print(\"B\")\n",
        "elif (score >= 70 and score <= 79):\n",
        "  print(\"C\")\n",
        "elif (score >= 60 and score <= 69):\n",
        "  print(\"D\")\n",
        "else:\n",
        "  print(\"E\")"
      ],
      "metadata": {
        "colab": {
          "base_uri": "https://localhost:8080/"
        },
        "id": "efW_vkatpmgh",
        "outputId": "223e90d9-2420-420e-b56d-7c6d7e550271"
      },
      "execution_count": 17,
      "outputs": [
        {
          "output_type": "stream",
          "name": "stdout",
          "text": [
            "請輸入成績50\n",
            "E\n"
          ]
        }
      ]
    },
    {
      "cell_type": "code",
      "source": [
        "season = int(input(\"請輸入月份\"))\n",
        "if (season >= 1 and season <= 12):\n",
        "  if (season >= 3 and season <= 5):\n",
        "    print( season , '月是春天!')\n",
        "  elif (season >= 6 and season <= 8):\n",
        "    print(season , '月是夏天!')\n",
        "  elif (season >= 9 and season <= 11):\n",
        "    print(season , '月是秋天!')\n",
        "  else:\n",
        "    print(season , '月是冬天!')\n",
        "else:\n",
        "  print(\"月份不在範圍內!\")"
      ],
      "metadata": {
        "colab": {
          "base_uri": "https://localhost:8080/"
        },
        "id": "ToO3r8Lapt9A",
        "outputId": "c8301037-3f76-4103-8b9b-cceb1541d28e"
      },
      "execution_count": 9,
      "outputs": [
        {
          "output_type": "stream",
          "name": "stdout",
          "text": [
            "請輸入月份12\n",
            "12 月是冬天!\n"
          ]
        }
      ]
    },
    {
      "cell_type": "code",
      "source": [
        "money = int(input(\"請輸入今年收入淨額\"))\n",
        "if (money >= 300000):\n",
        "  if (money >= 600000 and money < 1000000):\n",
        "    print(\"付稅金額:\",money * 0.13, end = \"元\\n\")\n",
        "  elif (money >= 100000 and money < 2000000):\n",
        "    print(\"付稅金額:\",money * 0.21, end = \"元\\n\")\n",
        "  elif (money >= 200000):\n",
        "    print(\"付稅金額:\",money * 0.3, end = \"元\\n\")\n",
        "  else:\n",
        "    print(\"付稅金額:\", money * 0.06, end = \"元\\n\")\n",
        "else:\n",
        "  print(\"付稅金額:\", money * 0, end = \"元\\n\")"
      ],
      "metadata": {
        "colab": {
          "base_uri": "https://localhost:8080/"
        },
        "id": "mhi4bhCupuEw",
        "outputId": "81a936f8-25dc-46e8-d1e9-695809fc2154"
      },
      "execution_count": 8,
      "outputs": [
        {
          "output_type": "stream",
          "name": "stdout",
          "text": [
            "請輸入今年收入淨額2000000\n",
            "付稅金額: 600000.0元\n"
          ]
        }
      ]
    }
  ]
}