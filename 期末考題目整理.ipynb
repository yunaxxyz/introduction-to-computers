{
  "nbformat": 4,
  "nbformat_minor": 0,
  "metadata": {
    "colab": {
      "name": "期末考題目整理.ipynb",
      "provenance": [],
      "authorship_tag": "ABX9TyP+V9c48Ga5AXDphRDCS9w/",
      "include_colab_link": true
    },
    "kernelspec": {
      "name": "python3",
      "display_name": "Python 3"
    },
    "language_info": {
      "name": "python"
    }
  },
  "cells": [
    {
      "cell_type": "markdown",
      "metadata": {
        "id": "view-in-github",
        "colab_type": "text"
      },
      "source": [
        "<a href=\"https://colab.research.google.com/github/yunaxxyz/introduction-to-computers/blob/main/%E6%9C%9F%E6%9C%AB%E8%80%83%E9%A1%8C%E7%9B%AE%E6%95%B4%E7%90%86.ipynb\" target=\"_parent\"><img src=\"https://colab.research.google.com/assets/colab-badge.svg\" alt=\"Open In Colab\"/></a>"
      ]
    },
    {
      "cell_type": "markdown",
      "source": [
        "體溫判斷程式"
      ],
      "metadata": {
        "id": "HW9EgNOBt5uQ"
      }
    },
    {
      "cell_type": "code",
      "execution_count": null,
      "metadata": {
        "colab": {
          "base_uri": "https://localhost:8080/"
        },
        "id": "2vAvdfdGQM25",
        "outputId": "54841a45-0eba-4962-8895-d42286c4c2c9"
      },
      "outputs": [
        {
          "output_type": "stream",
          "name": "stdout",
          "text": [
            "請輸入你的體溫37\n",
            "體溫略高!\n"
          ]
        }
      ],
      "source": [
        "temp = float(input(\"請輸入你的體溫\"))\n",
        "if temp >= 37.5:\n",
        "  print(\"體溫過高!\")\n",
        "elif temp >= 37 and temp <= 37.4:\n",
        "  print(\"體溫略高!\")\n",
        "elif temp >= 34 and temp <= 36.9:\n",
        "  print(\"體溫正常!\")\n",
        "else:\n",
        "  print(\"體溫異常，請重新量測!\")"
      ]
    },
    {
      "cell_type": "markdown",
      "source": [
        "巢狀判斷程式"
      ],
      "metadata": {
        "id": "a5vRX-2-uBuq"
      }
    },
    {
      "cell_type": "code",
      "source": [
        "money = int(input(\"請輸入金額\"))\n",
        "if (money >= 10000):\n",
        "  if (money >= 100000):\n",
        "    print(\"八折\",money * 0.8, end = \"元\\n\")\n",
        "  elif (money >= 50000):\n",
        "    print(\"八五折\",money * 0.85, end = \"元\\n\")\n",
        "  elif (money >= 30000):\n",
        "    print(\"九折\",money * 0.9, end = \"元\\n\")\n",
        "  else:\n",
        "    print(\"九五折\",money * 0.95, end = \"元\\n\")\n",
        "else:\n",
        "  print(' 沒打折', money, end = \"元\\n\")"
      ],
      "metadata": {
        "colab": {
          "base_uri": "https://localhost:8080/"
        },
        "id": "5Cn05osZQUJd",
        "outputId": "27aaba2b-d24d-4f29-e90a-51c8028f9c6b"
      },
      "execution_count": null,
      "outputs": [
        {
          "output_type": "stream",
          "name": "stdout",
          "text": [
            "請輸入金額10000\n",
            "九五折 9500.0元\n"
          ]
        }
      ]
    },
    {
      "cell_type": "markdown",
      "source": [
        "成績判斷程式"
      ],
      "metadata": {
        "id": "5PeUjk0VuCwC"
      }
    },
    {
      "cell_type": "code",
      "source": [
        "score = int(input(\"請輸入成績\"))\n",
        "if (score >= 90):\n",
        "  print(\"A\")\n",
        "elif (score >= 80 and score <= 89):\n",
        "  print(\"B\")\n",
        "elif (score >= 70 and score <= 79):\n",
        "  print(\"C\")\n",
        "elif (score >= 60 and score <= 69):\n",
        "  print(\"D\")\n",
        "else:\n",
        "  print(\"E\")"
      ],
      "metadata": {
        "colab": {
          "base_uri": "https://localhost:8080/"
        },
        "id": "KVYRXcsKQUM9",
        "outputId": "44595b60-18a7-47ff-87e6-c85cec0ed9f4"
      },
      "execution_count": null,
      "outputs": [
        {
          "output_type": "stream",
          "name": "stdout",
          "text": [
            "請輸入成績50\n",
            "E\n"
          ]
        }
      ]
    },
    {
      "cell_type": "markdown",
      "source": [
        "季節判斷程式"
      ],
      "metadata": {
        "id": "Sgd3bZgSutbB"
      }
    },
    {
      "cell_type": "code",
      "source": [
        "season = int(input(\"請輸入月份\"))\n",
        "if (season >= 1 and season <= 12):\n",
        "  if (season >= 3 and season <= 5):\n",
        "    print( season , '月是春天!')\n",
        "  elif (season >= 6 and season <= 8):\n",
        "    print(season , '月是夏天!')\n",
        "  elif (season >= 9 and season <= 11):\n",
        "    print(season , '月是秋天!')\n",
        "  else:\n",
        "    print(season , '月是冬天!')\n",
        "else:\n",
        "  print(\"月份不在範圍內!\")"
      ],
      "metadata": {
        "colab": {
          "base_uri": "https://localhost:8080/"
        },
        "id": "vVPXdPzFQUQF",
        "outputId": "c5406d24-13f9-4efc-ede7-68395247b90a"
      },
      "execution_count": null,
      "outputs": [
        {
          "output_type": "stream",
          "name": "stdout",
          "text": [
            "請輸入月份12\n",
            "12 月是冬天!\n"
          ]
        }
      ]
    },
    {
      "cell_type": "markdown",
      "source": [
        "稅金判斷程式"
      ],
      "metadata": {
        "id": "Zeat4zwfuyDR"
      }
    },
    {
      "cell_type": "code",
      "source": [
        "money = int(input(\"請輸入今年收入淨額\"))\n",
        "if (money >= 300000):\n",
        "  if (money >= 600000 and money < 1000000):\n",
        "    print(\"付稅金額:\",money * 0.13, end = \"元\\n\")\n",
        "  elif (money >= 100000 and money < 2000000):\n",
        "    print(\"付稅金額:\",money * 0.21, end = \"元\\n\")\n",
        "  elif (money >= 200000):\n",
        "    print(\"付稅金額:\",money * 0.3, end = \"元\\n\")\n",
        "  else:\n",
        "    print(\"付稅金額:\", money * 0.06, end = \"元\\n\")\n",
        "else:\n",
        "  print(\"付稅金額:\", money * 0, end = \"元\\n\")"
      ],
      "metadata": {
        "colab": {
          "base_uri": "https://localhost:8080/"
        },
        "id": "Xdi6HdnSQUSt",
        "outputId": "d2c0b725-a059-48d9-f382-11e34ad75d24"
      },
      "execution_count": null,
      "outputs": [
        {
          "output_type": "stream",
          "name": "stdout",
          "text": [
            "請輸入今年收入淨額2000000\n",
            "付稅金額: 600000.0元\n"
          ]
        }
      ]
    },
    {
      "cell_type": "markdown",
      "source": [
        "計算由1到該整數的總和程式"
      ],
      "metadata": {
        "id": "cCLS6lTzvEWw"
      }
    },
    {
      "cell_type": "code",
      "source": [
        "test = int(input(\"請輸入一個正整數:\"))\n",
        "sum = 0\n",
        "for n in range(1, test+1):\n",
        "  sum = sum + n\n",
        "print(\"1到\" ,n, \"的整數合為:\" , sum + n)"
      ],
      "metadata": {
        "id": "ARJHAynKQUVS",
        "colab": {
          "base_uri": "https://localhost:8080/"
        },
        "outputId": "7fd56c4f-c63a-4024-a33d-bad2db15b58e"
      },
      "execution_count": 1,
      "outputs": [
        {
          "output_type": "stream",
          "name": "stdout",
          "text": [
            "請輸入一個正整數:10\n",
            "1到 10 的整數合為: 65\n"
          ]
        }
      ]
    },
    {
      "cell_type": "markdown",
      "source": [
        "列出由1加總到該整數的整數數列程式"
      ],
      "metadata": {
        "id": "AiYht1Q_vl5h"
      }
    },
    {
      "cell_type": "code",
      "source": [
        "sum = 0\n",
        "test = int(input(\"請輸入一個正整數\"))\n",
        "for m in range (1, test+1):\n",
        "  sum = sum+m\n",
        "  print(\"1到\"+str(m)+\"的整數和為：\" ,sum)"
      ],
      "metadata": {
        "id": "a3tyYIrNQUXl",
        "colab": {
          "base_uri": "https://localhost:8080/"
        },
        "outputId": "3745d8cb-46d7-43c7-96f4-6369ee285425"
      },
      "execution_count": 2,
      "outputs": [
        {
          "output_type": "stream",
          "name": "stdout",
          "text": [
            "請輸入一個正整數10\n",
            "1到1的整數和為： 1\n",
            "1到2的整數和為： 3\n",
            "1到3的整數和為： 6\n",
            "1到4的整數和為： 10\n",
            "1到5的整數和為： 15\n",
            "1到6的整數和為： 21\n",
            "1到7的整數和為： 28\n",
            "1到8的整數和為： 36\n",
            "1到9的整數和為： 45\n",
            "1到10的整數和為： 55\n"
          ]
        }
      ]
    },
    {
      "cell_type": "markdown",
      "source": [
        "九九乘法表"
      ],
      "metadata": {
        "id": "Rfl3GlZtwJ8C"
      }
    },
    {
      "cell_type": "code",
      "source": [
        "for i in range(2,10):\n",
        "  for j in range(1,10):\n",
        "    product = i * j\n",
        "    print(\"%d*%d=%2d\" % (i, j, product), end=\" \")\n",
        "  print( )"
      ],
      "metadata": {
        "colab": {
          "base_uri": "https://localhost:8080/"
        },
        "id": "bhzVPh2-n-d4",
        "outputId": "2b215abb-551c-46b6-a99b-99d937bf1971"
      },
      "execution_count": 4,
      "outputs": [
        {
          "output_type": "stream",
          "name": "stdout",
          "text": [
            "2*1= 2 2*2= 4 2*3= 6 2*4= 8 2*5=10 2*6=12 2*7=14 2*8=16 2*9=18 \n",
            "3*1= 3 3*2= 6 3*3= 9 3*4=12 3*5=15 3*6=18 3*7=21 3*8=24 3*9=27 \n",
            "4*1= 4 4*2= 8 4*3=12 4*4=16 4*5=20 4*6=24 4*7=28 4*8=32 4*9=36 \n",
            "5*1= 5 5*2=10 5*3=15 5*4=20 5*5=25 5*6=30 5*7=35 5*8=40 5*9=45 \n",
            "6*1= 6 6*2=12 6*3=18 6*4=24 6*5=30 6*6=36 6*7=42 6*8=48 6*9=54 \n",
            "7*1= 7 7*2=14 7*3=21 7*4=28 7*5=35 7*6=42 7*7=49 7*8=56 7*9=63 \n",
            "8*1= 8 8*2=16 8*3=24 8*4=32 8*5=40 8*6=48 8*7=56 8*8=64 8*9=72 \n",
            "9*1= 9 9*2=18 9*3=27 9*4=36 9*5=45 9*6=54 9*7=63 9*8=72 9*9=81 \n"
          ]
        }
      ]
    },
    {
      "cell_type": "markdown",
      "source": [
        "最小公倍數"
      ],
      "metadata": {
        "id": "VFYAPX0uwRbw"
      }
    },
    {
      "cell_type": "code",
      "source": [
        "a = int(input(\"請輸入a的值\"))\n",
        "b = int(input(\"請輸入b的值\"))\n",
        "\n",
        "maxno = a * b\n",
        "for i in range(1, maxno+1):\n",
        "  if (i % a ==0 and i % b ==0):\n",
        "    break\n",
        "print(\"%d和 %d的最小公倍數 = %d\" %(a,b,i))"
      ],
      "metadata": {
        "colab": {
          "base_uri": "https://localhost:8080/"
        },
        "id": "dqQhPj6On-iY",
        "outputId": "21ada1db-b260-4ef3-b1f7-361f0dcec934"
      },
      "execution_count": 5,
      "outputs": [
        {
          "output_type": "stream",
          "name": "stdout",
          "text": [
            "請輸入a的值5\n",
            "請輸入b的值4\n",
            "5和 4的最小公倍數 = 20\n"
          ]
        }
      ]
    },
    {
      "cell_type": "markdown",
      "source": [
        "排除數列中5的倍數的程式"
      ],
      "metadata": {
        "id": "JS1tssoIwhY5"
      }
    },
    {
      "cell_type": "code",
      "source": [
        "n = int(input(\"請輸入正整數\"))\n",
        "for i in range(1, n+1):\n",
        "  if i % 5 == 0:\n",
        "    continue\n",
        "  print(i, end=\" \")"
      ],
      "metadata": {
        "colab": {
          "base_uri": "https://localhost:8080/"
        },
        "id": "khKBv2v2oVLq",
        "outputId": "dceadd51-aef3-4b4a-8134-855cbc9c0a01"
      },
      "execution_count": 6,
      "outputs": [
        {
          "output_type": "stream",
          "name": "stdout",
          "text": [
            "請輸入正整數25\n",
            "1 2 3 4 6 7 8 9 11 12 13 14 16 17 18 19 21 22 23 24 "
          ]
        }
      ]
    },
    {
      "cell_type": "markdown",
      "source": [
        "0～50的奇數總和"
      ],
      "metadata": {
        "id": "9Aw5COEqwmux"
      }
    },
    {
      "cell_type": "code",
      "source": [
        "i = 0\n",
        "result = 0\n",
        "while i <= 50:\n",
        "    if i % 2 != 0:\n",
        "        result += i\n",
        "    i+=1    \n",
        "print(\"0~50的奇數和結果是%d\" % result)"
      ],
      "metadata": {
        "colab": {
          "base_uri": "https://localhost:8080/"
        },
        "id": "teHkIpfZxyYA",
        "outputId": "4944d857-79bd-4b60-a799-589e1bf9a6f2"
      },
      "execution_count": 8,
      "outputs": [
        {
          "output_type": "stream",
          "name": "stdout",
          "text": [
            "0~50的奇數和結果是625\n"
          ]
        }
      ]
    },
    {
      "cell_type": "markdown",
      "source": [
        "0～50的偶數總和"
      ],
      "metadata": {
        "id": "aHAALv3zxxfx"
      }
    },
    {
      "cell_type": "code",
      "source": [
        "i = 0\n",
        "result = 0\n",
        "while i <= 50:\n",
        "    if i % 2 == 0:\n",
        "        result += i\n",
        "    i+=1    \n",
        "print(\"0~50的偶數和結果是%d\" % result)"
      ],
      "metadata": {
        "colab": {
          "base_uri": "https://localhost:8080/"
        },
        "id": "2oiJx0Tzrdud",
        "outputId": "8f098abe-166d-485f-e263-0f6a56c2967b"
      },
      "execution_count": 7,
      "outputs": [
        {
          "output_type": "stream",
          "name": "stdout",
          "text": [
            "0~50的偶數和結果是650\n"
          ]
        }
      ]
    },
    {
      "cell_type": "markdown",
      "source": [
        "讓使用者輸入一個正整數後，程式會顯示由1到該整數的倒三角形"
      ],
      "metadata": {
        "id": "78vEJIT4xGMI"
      }
    },
    {
      "cell_type": "code",
      "source": [
        "n = int(input(\"請輸入正整數：\"))\n",
        "for i in range(1,n+1):\n",
        "    for j in range(i,n+1):\n",
        "        print(\"*\", end=\"\")\n",
        "    print()"
      ],
      "metadata": {
        "colab": {
          "base_uri": "https://localhost:8080/"
        },
        "id": "hyr2pLfpxGXI",
        "outputId": "f5b39427-0b74-4e06-cb90-7fda20e055d2"
      },
      "execution_count": 9,
      "outputs": [
        {
          "output_type": "stream",
          "name": "stdout",
          "text": [
            "請輸入正整數：10\n",
            "**********\n",
            "*********\n",
            "********\n",
            "*******\n",
            "******\n",
            "*****\n",
            "****\n",
            "***\n",
            "**\n",
            "*\n"
          ]
        }
      ]
    },
    {
      "cell_type": "markdown",
      "source": [
        "用for迴圈，求出數值1~100中，所有是3或是7倍數的數之總和"
      ],
      "metadata": {
        "id": "CmKU-jbIxGgz"
      }
    },
    {
      "cell_type": "code",
      "source": [
        "sum = 0\n",
        "for i in range(0, 101):\n",
        "    if (i%3==0 or i%7==0):\n",
        "        sum += i\n",
        "print(\"數值 1~100 中，所有是 3 或 7 倍數的數之總和 =\",sum)"
      ],
      "metadata": {
        "colab": {
          "base_uri": "https://localhost:8080/"
        },
        "id": "p8Ie1lYlxGoI",
        "outputId": "bf0e2335-8074-4a92-8e44-1a6b7505bdde"
      },
      "execution_count": 10,
      "outputs": [
        {
          "output_type": "stream",
          "name": "stdout",
          "text": [
            "數值 1~100 中，所有是 3 或 7 倍數的數之總和 = 2208\n"
          ]
        }
      ]
    },
    {
      "cell_type": "markdown",
      "source": [
        "判斷是否爲質數程式"
      ],
      "metadata": {
        "id": "2sjItibWxMyp"
      }
    },
    {
      "cell_type": "code",
      "source": [
        "p=1\n",
        "counter=0\n",
        "n = int(input(\"請輸入正整數：\"))\n",
        "print(n,\"的因數有\",end=\" \")\n",
        "while (p<=n):\n",
        "    if (n%p==0):\n",
        "        print(p,end=\" \")\n",
        "        counter+=1\n",
        "    p+=1\n",
        "\n",
        "print()    \n",
        "if (counter==2):    \n",
        "    print(n,\"是質數\")\n",
        "else:\n",
        "    print(n,\"不是質數\")"
      ],
      "metadata": {
        "colab": {
          "base_uri": "https://localhost:8080/"
        },
        "id": "mG50mp84xM5k",
        "outputId": "057157c6-6bce-4ffd-eb97-7d70b981f8b9"
      },
      "execution_count": 11,
      "outputs": [
        {
          "output_type": "stream",
          "name": "stdout",
          "text": [
            "請輸入正整數：3\n",
            "3 的因數有 1 3 \n",
            "3 是質數\n"
          ]
        }
      ]
    },
    {
      "cell_type": "markdown",
      "source": [
        ""
      ],
      "metadata": {
        "id": "bjnTbWgZy5Uz"
      }
    },
    {
      "cell_type": "code",
      "source": [
        "subject = [\"國文\",\"數學\",\"英文\"]\n",
        "scores = [85,79,93]\n",
        "for i in range(len(scores)):\n",
        "  print(\"%s成績:%d分\" % (subject[i],scores[i]))"
      ],
      "metadata": {
        "colab": {
          "base_uri": "https://localhost:8080/"
        },
        "id": "FNA19OIry5eb",
        "outputId": "24c873de-6bee-4ae4-b8da-16ac93478282"
      },
      "execution_count": 18,
      "outputs": [
        {
          "output_type": "stream",
          "name": "stdout",
          "text": [
            "國文成績:85分\n",
            "數學成績:79分\n",
            "英文成績:93分\n"
          ]
        }
      ]
    },
    {
      "cell_type": "code",
      "source": [
        "students = [\"Tom\",\"Mary\",\"Tony\"]\n",
        "id =[1,2,3]\n",
        "for i in range(len(id)):\n",
        "  print(\"編號:%s 姓名:%s\" % (id[i],students[i]))"
      ],
      "metadata": {
        "colab": {
          "base_uri": "https://localhost:8080/"
        },
        "id": "DLj6thRG1pBC",
        "outputId": "39396668-f128-48d6-9747-c8a97cf3e24d"
      },
      "execution_count": 19,
      "outputs": [
        {
          "output_type": "stream",
          "name": "stdout",
          "text": [
            "編號:1 姓名:Tom\n",
            "編號:2 姓名:Mary\n",
            "編號:3 姓名:Tony\n"
          ]
        }
      ]
    }
  ]
}